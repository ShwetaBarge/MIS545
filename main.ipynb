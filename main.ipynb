{
 "cells": [
  {
   "cell_type": "markdown",
   "metadata": {},
   "source": [
    "#### MIS 545 \n",
    "##### German Credit History"
   ]
  },
  {
   "cell_type": "code",
   "execution_count": null,
   "metadata": {},
   "outputs": [],
   "source": [
    "import pandas as pd\n",
    "from sklearn.preprocessing import OneHotEncoder\n",
    "import numpy as np\n",
    "from sklearn.model_selection import train_test_split\n",
    "from sklearn.linear_model import LogisticRegression\n",
    "from sklearn.metrics import accuracy_score\n",
    "from sklearn.neighbors import KNeighborsClassifier\n",
    "from sklearn.tree import DecisionTreeClassifier\n",
    "from sklearn.linear_model import LinearRegression\n",
    "from sklearn.metrics import mean_squared_error\n",
    "from sklearn.naive_bayes import GaussianNB\n",
    "from sklearn.metrics import accuracy_score\n",
    "from sklearn.ensemble import RandomForestClassifier\n",
    "from tensorflow.keras.models import Sequential\n",
    "from tensorflow.keras.layers import Dense"
   ]
  },
  {
   "cell_type": "markdown",
   "metadata": {},
   "source": [
    "#### Loading the Dataset and Initial Check"
   ]
  },
  {
   "cell_type": "code",
   "execution_count": 4,
   "metadata": {},
   "outputs": [
    {
     "data": {
      "text/html": [
       "<div>\n",
       "<style scoped>\n",
       "    .dataframe tbody tr th:only-of-type {\n",
       "        vertical-align: middle;\n",
       "    }\n",
       "\n",
       "    .dataframe tbody tr th {\n",
       "        vertical-align: top;\n",
       "    }\n",
       "\n",
       "    .dataframe thead th {\n",
       "        text-align: right;\n",
       "    }\n",
       "</style>\n",
       "<table border=\"1\" class=\"dataframe\">\n",
       "  <thead>\n",
       "    <tr style=\"text-align: right;\">\n",
       "      <th></th>\n",
       "      <th>status</th>\n",
       "      <th>duration</th>\n",
       "      <th>credit_history</th>\n",
       "      <th>purpose</th>\n",
       "      <th>amount</th>\n",
       "      <th>savings</th>\n",
       "      <th>employment_duration</th>\n",
       "      <th>installment_rate</th>\n",
       "      <th>personal_status_sex</th>\n",
       "      <th>other_debtors</th>\n",
       "      <th>...</th>\n",
       "      <th>property</th>\n",
       "      <th>age</th>\n",
       "      <th>other_installment_plans</th>\n",
       "      <th>housing</th>\n",
       "      <th>number_credits</th>\n",
       "      <th>job</th>\n",
       "      <th>people_liable</th>\n",
       "      <th>telephone</th>\n",
       "      <th>foreign_worker</th>\n",
       "      <th>credit_risk</th>\n",
       "    </tr>\n",
       "  </thead>\n",
       "  <tbody>\n",
       "    <tr>\n",
       "      <th>0</th>\n",
       "      <td>... &lt; 100 DM</td>\n",
       "      <td>6</td>\n",
       "      <td>critical account/other credits existing</td>\n",
       "      <td>domestic appliances</td>\n",
       "      <td>1169</td>\n",
       "      <td>unknown/no savings account</td>\n",
       "      <td>... &gt;= 7 years</td>\n",
       "      <td>4</td>\n",
       "      <td>male : single</td>\n",
       "      <td>none</td>\n",
       "      <td>...</td>\n",
       "      <td>real estate</td>\n",
       "      <td>67</td>\n",
       "      <td>none</td>\n",
       "      <td>own</td>\n",
       "      <td>2</td>\n",
       "      <td>skilled employee/official</td>\n",
       "      <td>1</td>\n",
       "      <td>yes</td>\n",
       "      <td>yes</td>\n",
       "      <td>1</td>\n",
       "    </tr>\n",
       "    <tr>\n",
       "      <th>1</th>\n",
       "      <td>0 &lt;= ... &lt; 200 DM</td>\n",
       "      <td>48</td>\n",
       "      <td>existing credits paid back duly till now</td>\n",
       "      <td>domestic appliances</td>\n",
       "      <td>5951</td>\n",
       "      <td>... &lt; 100 DM</td>\n",
       "      <td>1 &lt;= ... &lt; 4 years</td>\n",
       "      <td>2</td>\n",
       "      <td>female : divorced/separated/married</td>\n",
       "      <td>none</td>\n",
       "      <td>...</td>\n",
       "      <td>real estate</td>\n",
       "      <td>22</td>\n",
       "      <td>none</td>\n",
       "      <td>own</td>\n",
       "      <td>1</td>\n",
       "      <td>skilled employee/official</td>\n",
       "      <td>1</td>\n",
       "      <td>no</td>\n",
       "      <td>yes</td>\n",
       "      <td>0</td>\n",
       "    </tr>\n",
       "    <tr>\n",
       "      <th>2</th>\n",
       "      <td>no checking account</td>\n",
       "      <td>12</td>\n",
       "      <td>critical account/other credits existing</td>\n",
       "      <td>retraining</td>\n",
       "      <td>2096</td>\n",
       "      <td>... &lt; 100 DM</td>\n",
       "      <td>4 &lt;= ... &lt; 7 years</td>\n",
       "      <td>2</td>\n",
       "      <td>male : single</td>\n",
       "      <td>none</td>\n",
       "      <td>...</td>\n",
       "      <td>real estate</td>\n",
       "      <td>49</td>\n",
       "      <td>none</td>\n",
       "      <td>own</td>\n",
       "      <td>1</td>\n",
       "      <td>unskilled - resident</td>\n",
       "      <td>2</td>\n",
       "      <td>no</td>\n",
       "      <td>yes</td>\n",
       "      <td>1</td>\n",
       "    </tr>\n",
       "    <tr>\n",
       "      <th>3</th>\n",
       "      <td>... &lt; 100 DM</td>\n",
       "      <td>42</td>\n",
       "      <td>existing credits paid back duly till now</td>\n",
       "      <td>radio/television</td>\n",
       "      <td>7882</td>\n",
       "      <td>... &lt; 100 DM</td>\n",
       "      <td>4 &lt;= ... &lt; 7 years</td>\n",
       "      <td>2</td>\n",
       "      <td>male : single</td>\n",
       "      <td>guarantor</td>\n",
       "      <td>...</td>\n",
       "      <td>building society savings agreement/life insurance</td>\n",
       "      <td>45</td>\n",
       "      <td>none</td>\n",
       "      <td>for free</td>\n",
       "      <td>1</td>\n",
       "      <td>skilled employee/official</td>\n",
       "      <td>2</td>\n",
       "      <td>no</td>\n",
       "      <td>yes</td>\n",
       "      <td>1</td>\n",
       "    </tr>\n",
       "    <tr>\n",
       "      <th>4</th>\n",
       "      <td>... &lt; 100 DM</td>\n",
       "      <td>24</td>\n",
       "      <td>delay in paying off in the past</td>\n",
       "      <td>car (new)</td>\n",
       "      <td>4870</td>\n",
       "      <td>... &lt; 100 DM</td>\n",
       "      <td>1 &lt;= ... &lt; 4 years</td>\n",
       "      <td>3</td>\n",
       "      <td>male : single</td>\n",
       "      <td>none</td>\n",
       "      <td>...</td>\n",
       "      <td>unknown/no property</td>\n",
       "      <td>53</td>\n",
       "      <td>none</td>\n",
       "      <td>for free</td>\n",
       "      <td>2</td>\n",
       "      <td>skilled employee/official</td>\n",
       "      <td>2</td>\n",
       "      <td>no</td>\n",
       "      <td>yes</td>\n",
       "      <td>0</td>\n",
       "    </tr>\n",
       "  </tbody>\n",
       "</table>\n",
       "<p>5 rows × 21 columns</p>\n",
       "</div>"
      ],
      "text/plain": [
       "                status  duration                            credit_history  \\\n",
       "0         ... < 100 DM         6   critical account/other credits existing   \n",
       "1    0 <= ... < 200 DM        48  existing credits paid back duly till now   \n",
       "2  no checking account        12   critical account/other credits existing   \n",
       "3         ... < 100 DM        42  existing credits paid back duly till now   \n",
       "4         ... < 100 DM        24           delay in paying off in the past   \n",
       "\n",
       "               purpose  amount                     savings  \\\n",
       "0  domestic appliances    1169  unknown/no savings account   \n",
       "1  domestic appliances    5951                ... < 100 DM   \n",
       "2           retraining    2096                ... < 100 DM   \n",
       "3     radio/television    7882                ... < 100 DM   \n",
       "4            car (new)    4870                ... < 100 DM   \n",
       "\n",
       "  employment_duration  installment_rate                  personal_status_sex  \\\n",
       "0      ... >= 7 years                 4                        male : single   \n",
       "1  1 <= ... < 4 years                 2  female : divorced/separated/married   \n",
       "2  4 <= ... < 7 years                 2                        male : single   \n",
       "3  4 <= ... < 7 years                 2                        male : single   \n",
       "4  1 <= ... < 4 years                 3                        male : single   \n",
       "\n",
       "  other_debtors  ...                                           property age  \\\n",
       "0          none  ...                                        real estate  67   \n",
       "1          none  ...                                        real estate  22   \n",
       "2          none  ...                                        real estate  49   \n",
       "3     guarantor  ...  building society savings agreement/life insurance  45   \n",
       "4          none  ...                                unknown/no property  53   \n",
       "\n",
       "   other_installment_plans   housing number_credits  \\\n",
       "0                     none       own              2   \n",
       "1                     none       own              1   \n",
       "2                     none       own              1   \n",
       "3                     none  for free              1   \n",
       "4                     none  for free              2   \n",
       "\n",
       "                         job people_liable  telephone foreign_worker  \\\n",
       "0  skilled employee/official             1        yes            yes   \n",
       "1  skilled employee/official             1         no            yes   \n",
       "2       unskilled - resident             2         no            yes   \n",
       "3  skilled employee/official             2         no            yes   \n",
       "4  skilled employee/official             2         no            yes   \n",
       "\n",
       "  credit_risk  \n",
       "0           1  \n",
       "1           0  \n",
       "2           1  \n",
       "3           1  \n",
       "4           0  \n",
       "\n",
       "[5 rows x 21 columns]"
      ]
     },
     "execution_count": 4,
     "metadata": {},
     "output_type": "execute_result"
    }
   ],
   "source": [
    "# Load the dataset\n",
    "credit_data = pd.read_csv(r'C:\\Users\\ual-laptop\\Desktop\\MIS\\MIS 545\\FinalProject\\GermanCredit.csv')\n",
    "\n",
    "# Display the first few rows of the dataframe\n",
    "credit_data.head()"
   ]
  },
  {
   "cell_type": "markdown",
   "metadata": {},
   "source": [
    "#### Checking for Missing Values and Data Types"
   ]
  },
  {
   "cell_type": "code",
   "execution_count": 5,
   "metadata": {},
   "outputs": [
    {
     "name": "stdout",
     "output_type": "stream",
     "text": [
      "status                     0\n",
      "duration                   0\n",
      "credit_history             0\n",
      "purpose                    0\n",
      "amount                     0\n",
      "savings                    0\n",
      "employment_duration        0\n",
      "installment_rate           0\n",
      "personal_status_sex        0\n",
      "other_debtors              0\n",
      "present_residence          0\n",
      "property                   0\n",
      "age                        0\n",
      "other_installment_plans    0\n",
      "housing                    0\n",
      "number_credits             0\n",
      "job                        0\n",
      "people_liable              0\n",
      "telephone                  0\n",
      "foreign_worker             0\n",
      "credit_risk                0\n",
      "dtype: int64\n",
      "status                     object\n",
      "duration                    int64\n",
      "credit_history             object\n",
      "purpose                    object\n",
      "amount                      int64\n",
      "savings                    object\n",
      "employment_duration        object\n",
      "installment_rate            int64\n",
      "personal_status_sex        object\n",
      "other_debtors              object\n",
      "present_residence           int64\n",
      "property                   object\n",
      "age                         int64\n",
      "other_installment_plans    object\n",
      "housing                    object\n",
      "number_credits              int64\n",
      "job                        object\n",
      "people_liable               int64\n",
      "telephone                  object\n",
      "foreign_worker             object\n",
      "credit_risk                 int64\n",
      "dtype: object\n"
     ]
    }
   ],
   "source": [
    "# Checking for missing values\n",
    "missing_values = credit_data.isnull().sum()\n",
    "\n",
    "# Checking data types\n",
    "data_types = credit_data.dtypes\n",
    "\n",
    "print(missing_values)\n",
    "print(data_types)"
   ]
  },
  {
   "cell_type": "markdown",
   "metadata": {},
   "source": [
    "#### One-Hot Encoding of Categorical Variables"
   ]
  },
  {
   "cell_type": "code",
   "execution_count": 28,
   "metadata": {},
   "outputs": [
    {
     "name": "stdout",
     "output_type": "stream",
     "text": [
      "Index(['status_... < 100 DM',\n",
      "       'status_... >= 200 DM / salary for at least 1 year',\n",
      "       'status_0 <= ... < 200 DM', 'status_no checking account',\n",
      "       'credit_history_all credits at this bank paid back duly',\n",
      "       'credit_history_critical account/other credits existing',\n",
      "       'credit_history_delay in paying off in the past',\n",
      "       'credit_history_existing credits paid back duly till now',\n",
      "       'credit_history_no credits taken/all credits paid back duly',\n",
      "       'purpose_business', 'purpose_car (new)', 'purpose_car (used)',\n",
      "       'purpose_domestic appliances', 'purpose_education',\n",
      "       'purpose_furniture/equipment', 'purpose_others',\n",
      "       'purpose_radio/television', 'purpose_repairs', 'purpose_retraining',\n",
      "       'savings_... < 100 DM', 'savings_... >= 1000 DM',\n",
      "       'savings_100 <= ... < 500 DM', 'savings_500 <= ... < 1000 DM',\n",
      "       'savings_unknown/no savings account',\n",
      "       'employment_duration_... < 1 year',\n",
      "       'employment_duration_... >= 7 years',\n",
      "       'employment_duration_1 <= ... < 4 years',\n",
      "       'employment_duration_4 <= ... < 7 years',\n",
      "       'employment_duration_unemployed',\n",
      "       'personal_status_sex_female : divorced/separated/married',\n",
      "       'personal_status_sex_male : divorced/separated',\n",
      "       'personal_status_sex_male : married/widowed',\n",
      "       'personal_status_sex_male : single', 'other_debtors_co-applicant',\n",
      "       'other_debtors_guarantor', 'other_debtors_none',\n",
      "       'property_building society savings agreement/life insurance',\n",
      "       'property_car or other', 'property_real estate',\n",
      "       'property_unknown/no property', 'other_installment_plans_bank',\n",
      "       'other_installment_plans_none', 'other_installment_plans_stores',\n",
      "       'housing_for free', 'housing_own', 'housing_rent',\n",
      "       'job_management/self-employed/highly qualified employee/officer',\n",
      "       'job_skilled employee/official',\n",
      "       'job_unemployed/unskilled - non-resident', 'job_unskilled - resident',\n",
      "       'telephone_no', 'telephone_yes', 'foreign_worker_no',\n",
      "       'foreign_worker_yes'],\n",
      "      dtype='object')\n"
     ]
    },
    {
     "name": "stderr",
     "output_type": "stream",
     "text": [
      "c:\\Users\\ual-laptop\\AppData\\Local\\Programs\\Python\\Python311\\Lib\\site-packages\\sklearn\\preprocessing\\_encoders.py:975: FutureWarning: `sparse` was renamed to `sparse_output` in version 1.2 and will be removed in 1.4. `sparse_output` is ignored unless you leave `sparse` to its default value.\n",
      "  warnings.warn(\n"
     ]
    }
   ],
   "source": [
    "# Selecting categorical columns for one-hot encoding\n",
    "categorical_columns = credit_data.select_dtypes(include=['object']).columns\n",
    "\n",
    "# Applying one-hot encoding\n",
    "encoder = OneHotEncoder(sparse=False) # Dense Array\n",
    "encoded_data = encoder.fit_transform(credit_data[categorical_columns])\n",
    "\n",
    "# Creating a DataFrame from the encoded data\n",
    "encoded_df = pd.DataFrame(encoded_data, columns=encoder.get_feature_names_out(categorical_columns))\n",
    "\n",
    "# Dropping the original categorical columns and concatenating the new encoded columns\n",
    "credit_data_cleaned = credit_data.drop(categorical_columns, axis=1)\n",
    "credit_data_cleaned = pd.concat([credit_data_cleaned, encoded_df], axis=1)\n",
    "\n",
    "print(encoded_df.columns)"
   ]
  },
  {
   "cell_type": "markdown",
   "metadata": {},
   "source": [
    "#### Handling Outliers"
   ]
  },
  {
   "cell_type": "code",
   "execution_count": 7,
   "metadata": {},
   "outputs": [],
   "source": [
    "# Function to detect and handle outliers using IQR\n",
    "def handle_outliers(df, column):\n",
    "    Q1 = df[column].quantile(0.25)\n",
    "    Q3 = df[column].quantile(0.75)\n",
    "    IQR = Q3 - Q1\n",
    "    lower_bound = Q1 - 1.5 * IQR\n",
    "    upper_bound = Q3 + 1.5 * IQR\n",
    "    \n",
    "    # Handling outliers by capping\n",
    "    df[column] = np.where(df[column] < lower_bound, lower_bound, df[column])\n",
    "    df[column] = np.where(df[column] > upper_bound, upper_bound, df[column])\n",
    "    return df\n",
    "\n",
    "# Columns to check for outliers\n",
    "numerical_columns = ['duration', 'amount', 'age']\n",
    "\n",
    "# Applying outlier handling for each numerical column\n",
    "for column in numerical_columns:\n",
    "    credit_data_cleaned = handle_outliers(credit_data_cleaned, column)\n"
   ]
  },
  {
   "cell_type": "code",
   "execution_count": 8,
   "metadata": {},
   "outputs": [],
   "source": [
    "# Saving the cleaned data to a CSV file\n",
    "credit_data_cleaned.to_csv(r'C:\\Users\\ual-laptop\\Desktop\\MIS\\MIS 545\\FinalProject\\Cleaned_GermanCredit.csv', index=False)"
   ]
  },
  {
   "cell_type": "markdown",
   "metadata": {},
   "source": [
    "##### Data Preperation"
   ]
  },
  {
   "cell_type": "code",
   "execution_count": 9,
   "metadata": {},
   "outputs": [],
   "source": [
    "# Load the cleaned data\n",
    "cleaned_data = pd.read_csv(r'C:\\Users\\ual-laptop\\Desktop\\MIS\\MIS 545\\FinalProject\\Cleaned_GermanCredit.csv')  # Replace with your file path\n",
    "\n",
    "# Separating the features and the target variable\n",
    "X = cleaned_data.drop('credit_risk', axis=1)  # Features\n",
    "y = cleaned_data['credit_risk']  # Target variable\n",
    "\n",
    "# Splitting the data into training and testing sets\n",
    "X_train, X_test, y_train, y_test = train_test_split(X, y, test_size=0.2, random_state=42)\n"
   ]
  },
  {
   "cell_type": "markdown",
   "metadata": {},
   "source": [
    "#### Logistic Regression"
   ]
  },
  {
   "cell_type": "code",
   "execution_count": 10,
   "metadata": {},
   "outputs": [],
   "source": [
    "log_reg = LogisticRegression(max_iter=1000)\n",
    "log_reg.fit(X_train, y_train)\n",
    "log_reg_pred = log_reg.predict(X_test)\n",
    "log_reg_accuracy = accuracy_score(y_test, log_reg_pred)"
   ]
  },
  {
   "cell_type": "markdown",
   "metadata": {},
   "source": [
    "#### K-Nearest Neighbors (KNN)"
   ]
  },
  {
   "cell_type": "code",
   "execution_count": 11,
   "metadata": {},
   "outputs": [],
   "source": [
    "knn = KNeighborsClassifier()\n",
    "knn.fit(X_train, y_train)\n",
    "knn_pred = knn.predict(X_test)\n",
    "knn_accuracy = accuracy_score(y_test, knn_pred)"
   ]
  },
  {
   "cell_type": "markdown",
   "metadata": {},
   "source": [
    "#### Decision Tree"
   ]
  },
  {
   "cell_type": "code",
   "execution_count": 12,
   "metadata": {},
   "outputs": [],
   "source": [
    "decision_tree = DecisionTreeClassifier()\n",
    "decision_tree.fit(X_train, y_train)\n",
    "decision_tree_pred = decision_tree.predict(X_test)\n",
    "decision_tree_accuracy = accuracy_score(y_test, decision_tree_pred)"
   ]
  },
  {
   "cell_type": "markdown",
   "metadata": {},
   "source": [
    "#### Linear Regression (Simple, with one feature)"
   ]
  },
  {
   "cell_type": "markdown",
   "metadata": {},
   "source": [
    "##### Selecting a single feature for simple linear regression"
   ]
  },
  {
   "cell_type": "code",
   "execution_count": 13,
   "metadata": {},
   "outputs": [],
   "source": [
    "X_linear = X_train[['amount']]  # Replace 'amount' with your chosen feature\n",
    "X_test_linear = X_test[['amount']]\n",
    "\n",
    "lin_reg = LinearRegression()\n",
    "lin_reg.fit(X_linear, y_train)\n",
    "lin_reg_pred = lin_reg.predict(X_test_linear)\n",
    "lin_reg_mse = mean_squared_error(y_test, lin_reg_pred)"
   ]
  },
  {
   "cell_type": "markdown",
   "metadata": {},
   "source": [
    "#### Multiple Regression (with all features)"
   ]
  },
  {
   "cell_type": "code",
   "execution_count": 14,
   "metadata": {},
   "outputs": [],
   "source": [
    "multi_reg = LinearRegression()\n",
    "multi_reg.fit(X_train, y_train)\n",
    "multi_reg_pred = multi_reg.predict(X_test)\n",
    "multi_reg_mse = mean_squared_error(y_test, multi_reg_pred)"
   ]
  },
  {
   "cell_type": "markdown",
   "metadata": {},
   "source": [
    "#### Naive Bayes"
   ]
  },
  {
   "cell_type": "code",
   "execution_count": 15,
   "metadata": {},
   "outputs": [],
   "source": [
    "nb = GaussianNB()\n",
    "nb.fit(X_train, y_train)\n",
    "nb_pred = nb.predict(X_test)\n",
    "nb_accuracy = accuracy_score(y_test, nb_pred)"
   ]
  },
  {
   "cell_type": "markdown",
   "metadata": {},
   "source": [
    "#### Random Forest"
   ]
  },
  {
   "cell_type": "code",
   "execution_count": 17,
   "metadata": {},
   "outputs": [],
   "source": [
    "random_forest = RandomForestClassifier()\n",
    "random_forest.fit(X_train, y_train)\n",
    "rf_pred = random_forest.predict(X_test)\n",
    "rf_accuracy = accuracy_score(y_test, rf_pred)"
   ]
  },
  {
   "cell_type": "code",
   "execution_count": 22,
   "metadata": {},
   "outputs": [
    {
     "name": "stdout",
     "output_type": "stream",
     "text": [
      "WARNING:tensorflow:From c:\\Users\\ual-laptop\\AppData\\Local\\Programs\\Python\\Python311\\Lib\\site-packages\\keras\\src\\backend.py:873: The name tf.get_default_graph is deprecated. Please use tf.compat.v1.get_default_graph instead.\n",
      "\n",
      "WARNING:tensorflow:From c:\\Users\\ual-laptop\\AppData\\Local\\Programs\\Python\\Python311\\Lib\\site-packages\\keras\\src\\optimizers\\__init__.py:309: The name tf.train.Optimizer is deprecated. Please use tf.compat.v1.train.Optimizer instead.\n",
      "\n",
      "Epoch 1/10\n",
      "WARNING:tensorflow:From c:\\Users\\ual-laptop\\AppData\\Local\\Programs\\Python\\Python311\\Lib\\site-packages\\keras\\src\\utils\\tf_utils.py:492: The name tf.ragged.RaggedTensorValue is deprecated. Please use tf.compat.v1.ragged.RaggedTensorValue instead.\n",
      "\n",
      "WARNING:tensorflow:From c:\\Users\\ual-laptop\\AppData\\Local\\Programs\\Python\\Python311\\Lib\\site-packages\\keras\\src\\engine\\base_layer_utils.py:384: The name tf.executing_eagerly_outside_functions is deprecated. Please use tf.compat.v1.executing_eagerly_outside_functions instead.\n",
      "\n",
      "25/25 [==============================] - 1s 3ms/step - loss: 39.3205 - accuracy: 0.5550\n",
      "Epoch 2/10\n",
      "25/25 [==============================] - 0s 2ms/step - loss: 9.8422 - accuracy: 0.5938\n",
      "Epoch 3/10\n",
      "25/25 [==============================] - 0s 3ms/step - loss: 3.0968 - accuracy: 0.5825\n",
      "Epoch 4/10\n",
      "25/25 [==============================] - 0s 2ms/step - loss: 3.7330 - accuracy: 0.5800\n",
      "Epoch 5/10\n",
      "25/25 [==============================] - 0s 2ms/step - loss: 4.0529 - accuracy: 0.5612\n",
      "Epoch 6/10\n",
      "25/25 [==============================] - 0s 3ms/step - loss: 2.3358 - accuracy: 0.6288\n",
      "Epoch 7/10\n",
      "25/25 [==============================] - 0s 3ms/step - loss: 7.3729 - accuracy: 0.5638\n",
      "Epoch 8/10\n",
      "25/25 [==============================] - 0s 2ms/step - loss: 3.3619 - accuracy: 0.6137\n",
      "Epoch 9/10\n",
      "25/25 [==============================] - 0s 3ms/step - loss: 3.9574 - accuracy: 0.6062\n",
      "Epoch 10/10\n",
      "25/25 [==============================] - 0s 3ms/step - loss: 2.2857 - accuracy: 0.6350\n",
      "7/7 [==============================] - 0s 542us/step - loss: 2.5976 - accuracy: 0.7050\n"
     ]
    }
   ],
   "source": [
    "# Neural network\n",
    "nn_model = Sequential([\n",
    "    Dense(128, activation='relu', input_shape=(X_train.shape[1],)),\n",
    "    Dense(64, activation='relu'),\n",
    "    Dense(1, activation='sigmoid')\n",
    "])\n",
    "\n",
    "nn_model.compile(optimizer='adam', loss='binary_crossentropy', metrics=['accuracy'])\n",
    "\n",
    "# Fit the model\n",
    "nn_model.fit(X_train, y_train, epochs=10, batch_size=32)\n",
    "\n",
    "# Evaluate the model\n",
    "nn_accuracy = nn_model.evaluate(X_test, y_test)[1]\n"
   ]
  },
  {
   "cell_type": "code",
   "execution_count": null,
   "metadata": {},
   "outputs": [],
   "source": []
  }
 ],
 "metadata": {
  "kernelspec": {
   "display_name": "Python 3",
   "language": "python",
   "name": "python3"
  },
  "language_info": {
   "codemirror_mode": {
    "name": "ipython",
    "version": 3
   },
   "file_extension": ".py",
   "mimetype": "text/x-python",
   "name": "python",
   "nbconvert_exporter": "python",
   "pygments_lexer": "ipython3",
   "version": "3.11.5"
  }
 },
 "nbformat": 4,
 "nbformat_minor": 2
}
